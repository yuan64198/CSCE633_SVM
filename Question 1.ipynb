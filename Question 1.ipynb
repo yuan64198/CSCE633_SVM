{
 "cells": [
  {
   "cell_type": "markdown",
   "metadata": {},
   "source": [
    "# Question 1: SVM (Ex 5.5 Mohri)"
   ]
  },
  {
   "cell_type": "markdown",
   "metadata": {},
   "source": [
    "### Please use the associated Satimage training and testing datasets for this problem"
   ]
  },
  {
   "cell_type": "markdown",
   "metadata": {},
   "source": [
    "### (a) Normalize the data. Please note we have already split the data into training and testing vectors for you."
   ]
  },
  {
   "cell_type": "code",
   "execution_count": 1,
   "metadata": {},
   "outputs": [],
   "source": [
    "import pandas as pd\n",
    "import numpy as np\n",
    "import matplotlib.pyplot as plt\n",
    "from statistics import stdev\n",
    "from sklearn import metrics\n",
    "from sklearn import preprocessing\n",
    "from sklearn.impute import SimpleImputer"
   ]
  },
  {
   "cell_type": "code",
   "execution_count": 2,
   "metadata": {},
   "outputs": [],
   "source": [
    "def readData(name):\n",
    "    f = open(name, \"r\")\n",
    "    str = f.read()\n",
    "    rows = str.split(\"\\n\")\n",
    "    del rows[-1]\n",
    "    return rows"
   ]
  },
  {
   "cell_type": "code",
   "execution_count": 3,
   "metadata": {},
   "outputs": [],
   "source": [
    "def dataToList(rows):\n",
    "    ret = []\n",
    "    for row in rows:\n",
    "        arr = np.empty(37)\n",
    "        arr.fill(np.nan)\n",
    "        tmp = row.split(\" \")\n",
    "        arr[0] = tmp[0]\n",
    "        del tmp[0]\n",
    "        del tmp[-1]\n",
    "        for r in tmp:\n",
    "            k = r.split(\":\")\n",
    "            arr[int(k[0])] = k[1]\n",
    "        ret.append(arr)\n",
    "    return ret"
   ]
  },
  {
   "cell_type": "code",
   "execution_count": 4,
   "metadata": {},
   "outputs": [],
   "source": [
    "def dataNormalize(X):\n",
    "    imp_mean = SimpleImputer(missing_values=np.nan, strategy='mean')\n",
    "    return imp_mean.fit_transform(X)"
   ]
  },
  {
   "cell_type": "code",
   "execution_count": 5,
   "metadata": {},
   "outputs": [],
   "source": [
    "rows = readData(\"./dataset/satimage.scale.training\")\n",
    "data = dataToList(rows)\n",
    "Train = pd.DataFrame(dataNormalize(dataNormalize(data)))\n",
    "rows = readData(\"./dataset/satimage.scale.t\")\n",
    "data = dataToList(rows)\n",
    "Test = pd.DataFrame(dataNormalize(dataNormalize(data)))"
   ]
  },
  {
   "cell_type": "markdown",
   "metadata": {},
   "source": [
    "### (b) (Hyperparameter Tuning) Consider the binary classification that consists of distinguishing class 6 from the rest of the data points. Use SVMs combined with polynomial kernels to solve this classification problem. For each value of the polynomial degree, d = 1, 2, 3, 4, plot the average 10-fold cross-validation error plus or minus one standard deviation as a function of C (let the other parameters of the polynomial kernels be equal to their default values) ON THE TRAINING DATA. Report the best value of the trade-off constant C measured on the training internal cross-validation."
   ]
  },
  {
   "cell_type": "markdown",
   "metadata": {},
   "source": [
    "The training best value of the trade-off constant C measured on the training internal cross-validation for Degree=1 is 400, Degree=2 is 400, Degree3 is 800, Degree4 is 800."
   ]
  },
  {
   "cell_type": "code",
   "execution_count": 6,
   "metadata": {},
   "outputs": [],
   "source": [
    "X_train = Train.iloc[:, 1:]"
   ]
  },
  {
   "cell_type": "code",
   "execution_count": 7,
   "metadata": {},
   "outputs": [],
   "source": [
    "tmp = []\n",
    "for e in Train.iloc[:, 0].values:\n",
    "    if(e == 6.0):\n",
    "        tmp.append(2)\n",
    "    else:\n",
    "        tmp.append(1)\n",
    "y_train = pd.DataFrame(tmp)"
   ]
  },
  {
   "cell_type": "code",
   "execution_count": 8,
   "metadata": {},
   "outputs": [],
   "source": [
    "from sklearn.model_selection import KFold\n",
    "from statistics import mean\n",
    "from sklearn.svm import SVC\n",
    "class PolynomialSVC:\n",
    "    def __init__(self, numFolds, d, C):\n",
    "        self.numFolds = numFolds\n",
    "        self.svc = SVC(kernel='poly', degree = d, gamma = 'auto', C = C)\n",
    "        \n",
    "    def cross_validation(self, X, y):\n",
    "        kf = KFold(n_splits= self.numFolds,shuffle=True)\n",
    "        fold = 0\n",
    "        ret = []\n",
    "        for train_index, test_index in kf.split(X):\n",
    "            X_train, X_test = X[train_index], X[test_index]\n",
    "            y_train, y_test = y[train_index], y[test_index]\n",
    "            self.train( X_train, y_train)\n",
    "            tmp = self.predict(X_test)\n",
    "            fpr, tpr, thresholds = metrics.roc_curve(y_test, self.predict(X_test), pos_label=2)\n",
    "            score = metrics.auc(fpr, tpr)\n",
    "            #print(\"Fold\", fold,\":\\tAccuracy: \", score)\n",
    "            ret.append(score)\n",
    "            fold += 1\n",
    "        #print(\"Average Auc Score:\", mean(ret))\n",
    "        return ret\n",
    "    def train(self, X, y):\n",
    "        self.svc.fit(X, y)\n",
    "    def predict(self, X):\n",
    "        return self.svc.predict(X)\n",
    "    def score(self, X, y):\n",
    "        return self.svc.score(X, y)"
   ]
  },
  {
   "cell_type": "code",
   "execution_count": 9,
   "metadata": {},
   "outputs": [],
   "source": [
    "def cal_avg_std( dd):\n",
    "    arr = []\n",
    "    std = []\n",
    "    avg = []\n",
    "    \n",
    "    clf = PolynomialSVC( numFolds = 10, d = dd, C = 10.0)\n",
    "    arr.append(clf.cross_validation( X_train.values, y_train.values.ravel()))\n",
    "    clf = PolynomialSVC( numFolds = 10, d = dd, C = 50.0)\n",
    "    arr.append(clf.cross_validation( X_train.values, y_train.values.ravel()))\n",
    "    clf = PolynomialSVC( numFolds = 10, d = dd, C = 100.0)\n",
    "    arr.append(clf.cross_validation( X_train.values, y_train.values.ravel()))\n",
    "    clf = PolynomialSVC( numFolds = 10, d = dd, C = 200.0)\n",
    "    arr.append(clf.cross_validation( X_train.values, y_train.values.ravel()))\n",
    "    clf = PolynomialSVC( numFolds = 10, d = dd, C = 400.0)\n",
    "    arr.append(clf.cross_validation( X_train.values, y_train.values.ravel()))\n",
    "    clf = PolynomialSVC( numFolds = 10, d = dd, C = 800.0)\n",
    "    arr.append(clf.cross_validation( X_train.values, y_train.values.ravel()))\n",
    "    for i in range(len(arr)):\n",
    "        std.append(stdev(arr[i]))\n",
    "        avg.append(mean(arr[i]))\n",
    "    return [avg, std]"
   ]
  },
  {
   "cell_type": "code",
   "execution_count": 10,
   "metadata": {},
   "outputs": [],
   "source": [
    "D = []\n",
    "D.append(cal_avg_std(1))\n",
    "D.append(cal_avg_std(2))\n",
    "D.append(cal_avg_std(3))\n",
    "D.append(cal_avg_std(4))"
   ]
  },
  {
   "cell_type": "code",
   "execution_count": 11,
   "metadata": {
    "scrolled": true
   },
   "outputs": [
    {
     "data": {
      "image/png": "[encoded data removed]",
      "text/plain": [
       "<Figure size 432x288 with 1 Axes>"
      ]
     },
     "metadata": {
      "needs_background": "light"
     },
     "output_type": "display_data"
    }
   ],
   "source": [
    "import matplotlib.pyplot as plt\n",
    "plt.errorbar(['10', '50', '100', '200', '400', '800'], D[0][0], D[0][1], marker='o', mew=4 , ms=5, capsize = 3, ecolor = 'r')\n",
    "plt.xlabel('C value')\n",
    "plt.ylabel('Accuracy')\n",
    "plt.title('RUC Score for SVC when d=1', fontsize=15)\n",
    "plt.show()"
   ]
  },
  {
   "cell_type": "code",
   "execution_count": 12,
   "metadata": {},
   "outputs": [
    {
     "data": {
      "image/png": "[encoded data removed]",
      "text/plain": [
       "<Figure size 432x288 with 1 Axes>"
      ]
     },
     "metadata": {
      "needs_background": "light"
     },
     "output_type": "display_data"
    }
   ],
   "source": [
    "import matplotlib.pyplot as plt\n",
    "plt.errorbar(['10', '50', '100', '200', '400', '800'], D[1][0], D[1][1], marker='o', mew=4 , ms=5, capsize = 3, ecolor = 'r')\n",
    "plt.xlabel('C value')\n",
    "plt.ylabel('Accuracy')\n",
    "plt.title('RUC Score for SVC when d=2', fontsize=15)\n",
    "plt.show()"
   ]
  },
  {
   "cell_type": "code",
   "execution_count": 13,
   "metadata": {},
   "outputs": [
    {
     "data": {
      "image/png": "[encoded data removed]",
      "text/plain": [
       "<Figure size 432x288 with 1 Axes>"
      ]
     },
     "metadata": {
      "needs_background": "light"
     },
     "output_type": "display_data"
    }
   ],
   "source": [
    "import matplotlib.pyplot as plt\n",
    "plt.errorbar(['10', '50', '100', '200', '400', '800'], D[2][0], D[2][1], marker='o', mew=4 , ms=5, capsize = 3, ecolor = 'r')\n",
    "plt.xlabel('C value')\n",
    "plt.ylabel('Accuracy')\n",
    "plt.title('RUC Score for SVC when d=3', fontsize=15)\n",
    "plt.show()"
   ]
  },
  {
   "cell_type": "code",
   "execution_count": 14,
   "metadata": {},
   "outputs": [
    {
     "data": {
      "image/png": "[encoded data removed]",
      "text/plain": [
       "<Figure size 432x288 with 1 Axes>"
      ]
     },
     "metadata": {
      "needs_background": "light"
     },
     "output_type": "display_data"
    }
   ],
   "source": [
    "import matplotlib.pyplot as plt\n",
    "plt.errorbar(['10', '50', '100', '200', '400', '800'], D[3][0], D[3][1], marker='o', mew=4 , ms=5, capsize = 3, ecolor = 'r')\n",
    "plt.xlabel('C value')\n",
    "plt.ylabel('Accuracy')\n",
    "plt.title('RUC Score for SVC when d=4', fontsize=15)\n",
    "plt.show()"
   ]
  },
  {
   "cell_type": "markdown",
   "metadata": {},
   "source": [
    "### (c) (Model Training and Testing) Let (C∗, d∗) be the best pair found previously in the 10-fold internal cross validation. Build a model for each pair on the full training data. Then plot the test errors for each model, as a function of d."
   ]
  },
  {
   "cell_type": "code",
   "execution_count": 15,
   "metadata": {},
   "outputs": [],
   "source": [
    "X_test = Test.iloc[:, 1:]\n",
    "tmp = []\n",
    "for e in Test.iloc[:, 0].values:\n",
    "    if(e == 6.0):\n",
    "        tmp.append(2)\n",
    "    else:\n",
    "        tmp.append(1)\n",
    "y_test = pd.DataFrame(tmp)"
   ]
  },
  {
   "cell_type": "code",
   "execution_count": 16,
   "metadata": {},
   "outputs": [],
   "source": [
    "arr = []\n",
    "clf1 = PolynomialSVC( numFolds = 10, d = 1, C = 200.0)\n",
    "clf1.train(X_train.values, y_train.values.ravel())\n",
    "fpr, tpr, thresholds = metrics.roc_curve(y_test.values.ravel(), clf1.predict(X_test.values), pos_label=2)\n",
    "score = metrics.auc(fpr, tpr)\n",
    "arr.append(score)"
   ]
  },
  {
   "cell_type": "code",
   "execution_count": 17,
   "metadata": {},
   "outputs": [],
   "source": [
    "clf2 = PolynomialSVC( numFolds = 10, d = 2, C = 400.0)\n",
    "clf2.train(X_train.values, y_train.values.ravel())\n",
    "fpr, tpr, thresholds = metrics.roc_curve(y_test.values.ravel(), clf2.predict(X_test.values), pos_label=2)\n",
    "score = metrics.auc(fpr, tpr)\n",
    "arr.append(score)"
   ]
  },
  {
   "cell_type": "code",
   "execution_count": 18,
   "metadata": {},
   "outputs": [],
   "source": [
    "clf3 = PolynomialSVC( numFolds = 10, d = 3, C = 800.0)\n",
    "clf3.train(X_train.values, y_train.values.ravel())\n",
    "fpr, tpr, thresholds = metrics.roc_curve(y_test.values.ravel(), clf2.predict(X_test.values), pos_label=2)\n",
    "score = metrics.auc(fpr, tpr)\n",
    "arr.append(score)"
   ]
  },
  {
   "cell_type": "code",
   "execution_count": 19,
   "metadata": {},
   "outputs": [],
   "source": [
    "clf4 = PolynomialSVC( numFolds = 10, d = 4, C = 800.0)\n",
    "clf4.train(X_train.values, y_train.values.ravel())\n",
    "fpr, tpr, thresholds = metrics.roc_curve(y_test.values.ravel(), clf4.predict(X_test.values), pos_label=2)\n",
    "score = metrics.auc(fpr, tpr)\n",
    "arr.append(score)"
   ]
  },
  {
   "cell_type": "code",
   "execution_count": 20,
   "metadata": {},
   "outputs": [
    {
     "data": {
      "image/png": "[encoded data removed]",
      "text/plain": [
       "<Figure size 432x288 with 1 Axes>"
      ]
     },
     "metadata": {
      "needs_background": "light"
     },
     "output_type": "display_data"
    }
   ],
   "source": [
    "plt.plot(['1', '2', '3', '4'], arr, marker='o', ms=5)\n",
    "plt.xlabel('Degree')\n",
    "plt.ylabel('RUC score')\n",
    "plt.title('Testing RUC Score for SVC', fontsize=15)\n",
    "plt.show()"
   ]
  },
  {
   "cell_type": "markdown",
   "metadata": {},
   "source": [
    "### (d) (Results Evaluation) Plot the average number of support vectors obtained as a function of d."
   ]
  },
  {
   "cell_type": "code",
   "execution_count": 21,
   "metadata": {},
   "outputs": [
    {
     "name": "stdout",
     "output_type": "stream",
     "text": [
      "support vectors of degree 1: 947\n",
      "support vectors of degree 2: 780\n",
      "support vectors of degree 3: 842\n",
      "support vectors of degree 4: 1048\n"
     ]
    }
   ],
   "source": [
    "print(\"support vectors of degree 1:\", len(clf1.svc.support_))\n",
    "print(\"support vectors of degree 2:\", len(clf2.svc.support_))\n",
    "print(\"support vectors of degree 3:\", len(clf3.svc.support_))\n",
    "print(\"support vectors of degree 4:\", len(clf4.svc.support_))"
   ]
  },
  {
   "cell_type": "markdown",
   "metadata": {},
   "source": [
    "### (e) (Results Evaluation) How many of the support vectors lie on the margin hyperplanes?"
   ]
  },
  {
   "cell_type": "markdown",
   "metadata": {},
   "source": [
    "I am not sure what this question means. I think it means that how many of the support vectors are \"exactly\" on the margin hyperplanes (Not the points in the marginal zone). We can see from the results showed belowed, there's no point on the hyperplane. However, we can see from the histograms, there are a lot of points very close to the hyperplanes."
   ]
  },
  {
   "cell_type": "code",
   "execution_count": 30,
   "metadata": {},
   "outputs": [
    {
     "name": "stdout",
     "output_type": "stream",
     "text": [
      "0\n",
      "0\n",
      "0\n",
      "0\n"
     ]
    }
   ],
   "source": [
    "a1 = clf1.svc.decision_function(X_train.values)\n",
    "print(np.sum(a1==0))\n",
    "a2 = clf2.svc.decision_function(X_train.values)\n",
    "print(np.sum(a2==0))\n",
    "a3 = clf3.svc.decision_function(X_train.values)\n",
    "print(np.sum(a3==0))\n",
    "a4 = clf4.svc.decision_function(X_train.values)\n",
    "print(np.sum(a4==0))"
   ]
  },
  {
   "cell_type": "code",
   "execution_count": 31,
   "metadata": {},
   "outputs": [
    {
     "data": {
      "text/plain": [
       "array([[<matplotlib.axes._subplots.AxesSubplot object at 0x1a1f311be0>]],\n",
       "      dtype=object)"
      ]
     },
     "execution_count": 31,
     "metadata": {},
     "output_type": "execute_result"
    },
    {
     "data": {
      "image/png": "[encoded data removed]",
      "text/plain": [
       "<Figure size 432x288 with 1 Axes>"
      ]
     },
     "metadata": {
      "needs_background": "light"
     },
     "output_type": "display_data"
    },
    {
     "data": {
      "image/png": "[encoded data removed]",
      "text/plain": [
       "<Figure size 432x288 with 1 Axes>"
      ]
     },
     "metadata": {
      "needs_background": "light"
     },
     "output_type": "display_data"
    },
    {
     "data": {
      "image/png": "[encoded data removed]",
      "text/plain": [
       "<Figure size 432x288 with 1 Axes>"
      ]
     },
     "metadata": {
      "needs_background": "light"
     },
     "output_type": "display_data"
    },
    {
     "data": {
      "image/png": "[encoded data removed]",
      "text/plain": [
       "<Figure size 432x288 with 1 Axes>"
      ]
     },
     "metadata": {
      "needs_background": "light"
     },
     "output_type": "display_data"
    }
   ],
   "source": [
    "pd.DataFrame(a1).hist()\n",
    "pd.DataFrame(a2).hist()\n",
    "pd.DataFrame(a3).hist()\n",
    "pd.DataFrame(a4).hist()"
   ]
  },
  {
   "cell_type": "code",
   "execution_count": 22,
   "metadata": {},
   "outputs": [
    {
     "data": {
      "text/plain": [
       "947"
      ]
     },
     "execution_count": 22,
     "metadata": {},
     "output_type": "execute_result"
    }
   ],
   "source": [
    "hyperplane = clf1.svc.decision_function(X_test.values)\n",
    "len(clf1.svc.support_vectors_)"
   ]
  },
  {
   "cell_type": "code",
   "execution_count": 23,
   "metadata": {},
   "outputs": [
    {
     "data": {
      "text/plain": [
       "947"
      ]
     },
     "execution_count": 23,
     "metadata": {},
     "output_type": "execute_result"
    }
   ],
   "source": [
    "len(clf1.svc.dual_coef_[0])"
   ]
  },
  {
   "cell_type": "markdown",
   "metadata": {},
   "source": [
    "### (f) (Conceptual) Explain how the parameter d influences the model fit (margin size and #number of support vectors)."
   ]
  },
  {
   "cell_type": "markdown",
   "metadata": {},
   "source": [
    "The Degree d=1 and Degree d=4 seems to have more support vectors than Degree d=1 and d=2. I could be that when Degree d=1 and 2, the marginal hyperplane fits the data more."
   ]
  },
  {
   "cell_type": "markdown",
   "metadata": {},
   "source": [
    "### (g) (Conceptual) Assume you were using an RBF kernel instead of polynomial kernel, what would the parameter γ influence in terms of the model fit (margin size and # number of support vectors)."
   ]
  },
  {
   "cell_type": "markdown",
   "metadata": {},
   "source": [
    "Radial Based Function(RBF) Kernel is used to classify non-linear seperable data.\n",
    "As we can see from the RBF equation, the parameter γ is a constant value. The γ parameter defines how far the influence of a single training example reaches, with low values meaning \"far\" and high values meaning \"close\".\n",
    "When gamma is very small, the model is constrained and cannot capture the complexity of the data. When gamma is very Big, the radius of the area of influence of the support vectors only includes the support vector itself, which can easily go overfitting."
   ]
  }
 ],
 "metadata": {
  "kernelspec": {
   "display_name": "Python 3",
   "language": "python",
   "name": "python3"
  },
  "language_info": {
   "codemirror_mode": {
    "name": "ipython",
    "version": 3
   },
   "file_extension": ".py",
   "mimetype": "text/x-python",
   "name": "python",
   "nbconvert_exporter": "python",
   "pygments_lexer": "ipython3",
   "version": "3.6.8"
  }
 },
 "nbformat": 4,
 "nbformat_minor": 2
}
