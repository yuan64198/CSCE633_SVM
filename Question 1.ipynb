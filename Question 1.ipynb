{
 "cells": [
  {
   "cell_type": "markdown",
   "metadata": {},
   "source": [
    "# Question 1: SVM (Ex 5.5 Mohri)"
   ]
  },
  {
   "cell_type": "markdown",
   "metadata": {},
   "source": [
    "### Please use the associated Satimage training and testing datasets for this problem"
   ]
  },
  {
   "cell_type": "markdown",
   "metadata": {},
   "source": [
    "### (a) Normalize the data. Please note we have already split the data into training and testing vectors for you."
   ]
  },
  {
   "cell_type": "code",
   "execution_count": 1,
   "metadata": {},
   "outputs": [],
   "source": [
    "import pandas as pd\n",
    "import numpy as np\n",
    "from sklearn import preprocessing\n",
    "from sklearn.impute import SimpleImputer"
   ]
  },
  {
   "cell_type": "code",
   "execution_count": 2,
   "metadata": {},
   "outputs": [],
   "source": [
    "def readData(name):\n",
    "    f = open(name, \"r\")\n",
    "    str = f.read()\n",
    "    rows = str.split(\"\\n\")\n",
    "    del rows[-1]\n",
    "    return rows"
   ]
  },
  {
   "cell_type": "code",
   "execution_count": 3,
   "metadata": {},
   "outputs": [],
   "source": [
    "def dataToList(rows):\n",
    "    ret = []\n",
    "    for row in rows:\n",
    "        arr = np.empty(37)\n",
    "        arr.fill(np.nan)\n",
    "        tmp = row.split(\" \")\n",
    "        arr[0] = tmp[0]\n",
    "        del tmp[0]\n",
    "        del tmp[-1]\n",
    "        for r in tmp:\n",
    "            k = r.split(\":\")\n",
    "            arr[int(k[0])] = k[1]\n",
    "        ret.append(arr)\n",
    "    return ret"
   ]
  },
  {
   "cell_type": "code",
   "execution_count": 4,
   "metadata": {},
   "outputs": [],
   "source": [
    "def dataNormalize(X):\n",
    "    imp_mean = SimpleImputer(missing_values=np.nan, strategy='mean')\n",
    "    return imp_mean.fit_transform(X)"
   ]
  },
  {
   "cell_type": "code",
   "execution_count": 5,
   "metadata": {},
   "outputs": [],
   "source": [
    "rows = readData(\"./dataset/satimage.scale.training\")\n",
    "data = dataToList(rows)\n",
    "Train = pd.DataFrame(dataNormalize(dataNormalize(data)))\n",
    "rows = readData(\"./dataset/satimage.scale.t\")\n",
    "data = dataToList(rows)\n",
    "Test = pd.DataFrame(dataNormalize(dataNormalize(data)))"
   ]
  },
  {
   "cell_type": "markdown",
   "metadata": {},
   "source": [
    "### (b) (Hyperparameter Tuning) Consider the binary classification that consists of distinguishing class 6 from the rest of the data points. Use SVMs combined with polynomial kernels to solve this classification problem. For each value of the polynomial degree, d = 1, 2, 3, 4, plot the average 10-fold cross-validation error plus or minus one standard deviation as a function of C (let the other parameters of the polynomial kernels be equal to their default values) ON THE TRAINING DATA. Report the best value of the trade-off constant C measured on the training internal cross-validation."
   ]
  },
  {
   "cell_type": "code",
   "execution_count": 6,
   "metadata": {},
   "outputs": [],
   "source": [
    "X_train = Train.iloc[:, 1:]"
   ]
  },
  {
   "cell_type": "code",
   "execution_count": 7,
   "metadata": {},
   "outputs": [],
   "source": [
    "tmp = []\n",
    "for e in Train.iloc[:, 0].values:\n",
    "    if(e == 6.0):\n",
    "        tmp.append(True)\n",
    "    else:\n",
    "        tmp.append(False)\n",
    "y_train = pd.DataFrame(tmp)"
   ]
  },
  {
   "cell_type": "code",
   "execution_count": 50,
   "metadata": {},
   "outputs": [],
   "source": [
    "from sklearn.model_selection import KFold\n",
    "from statistics import mean\n",
    "from sklearn.svm import SVC\n",
    "class PolynomialSVC:\n",
    "    def __init__(self, numFolds, d):\n",
    "        self.numFolds = numFolds\n",
    "        self.clf = SVC(kernel='poly', degree = d, gamma = 'auto')\n",
    "        \n",
    "    def cross_validation(self, X, y):\n",
    "        kf = KFold(n_splits= self.numFolds,shuffle=True)\n",
    "        fold = 0\n",
    "        tmp = []\n",
    "        for train_index, test_index in kf.split(X):\n",
    "            X_train, X_test = X[train_index], X[test_index]\n",
    "            y_train, y_test = y[train_index], y[test_index]\n",
    "            self.train( X_train, y_train)\n",
    "            score = self.score( X_test, y_test)\n",
    "            print(\"Fold\", fold,\":\\tAccuracy: \", score)\n",
    "            tmp.append(score)\n",
    "            fold += 1\n",
    "        print(\"Average Accuracy:\", mean(tmp))\n",
    "    def train(self, X, y):\n",
    "        self.clf.fit(X, y)\n",
    "    def score(self, X, y):\n",
    "        return self.clf.score(X, y)"
   ]
  },
  {
   "cell_type": "code",
   "execution_count": 51,
   "metadata": {},
   "outputs": [
    {
     "name": "stdout",
     "output_type": "stream",
     "text": [
      "Fold 0 :\tAccuracy: %f 0.9144144144144144\n",
      "Fold 1 :\tAccuracy: %f 0.8828828828828829\n",
      "Fold 2 :\tAccuracy: %f 0.9076576576576577\n",
      "Fold 3 :\tAccuracy: %f 0.8986486486486487\n",
      "Fold 4 :\tAccuracy: %f 0.8963963963963963\n",
      "Fold 5 :\tAccuracy: %f 0.9006772009029346\n",
      "Fold 6 :\tAccuracy: %f 0.9187358916478555\n",
      "Fold 7 :\tAccuracy: %f 0.8893905191873589\n",
      "Fold 8 :\tAccuracy: %f 0.90744920993228\n",
      "Fold 9 :\tAccuracy: %f 0.8893905191873589\n",
      "Average Accuracy: 0.9005643340857787\n"
     ]
    }
   ],
   "source": [
    "clf = PolynomialSVC( numFolds = 10, d = 1)\n",
    "clf.cross_validation( X_train.values, y_train.values.ravel())"
   ]
  },
  {
   "cell_type": "code",
   "execution_count": 52,
   "metadata": {},
   "outputs": [
    {
     "name": "stdout",
     "output_type": "stream",
     "text": [
      "Fold 0 :\tAccuracy: %f 0.9054054054054054\n",
      "Fold 1 :\tAccuracy: %f 0.9144144144144144\n",
      "Fold 2 :\tAccuracy: %f 0.9121621621621622\n",
      "Fold 3 :\tAccuracy: %f 0.9076576576576577\n",
      "Fold 4 :\tAccuracy: %f 0.9054054054054054\n",
      "Fold 5 :\tAccuracy: %f 0.9051918735891648\n",
      "Fold 6 :\tAccuracy: %f 0.909706546275395\n",
      "Fold 7 :\tAccuracy: %f 0.9029345372460497\n",
      "Fold 8 :\tAccuracy: %f 0.9209932279909706\n",
      "Fold 9 :\tAccuracy: %f 0.9164785553047404\n",
      "Average Accuracy: 0.9100349785451366\n"
     ]
    }
   ],
   "source": [
    "clf = PolynomialSVC( numFolds = 10, d = 2)\n",
    "clf.cross_validation( X_train.values, y_train.values.ravel())"
   ]
  },
  {
   "cell_type": "code",
   "execution_count": 53,
   "metadata": {},
   "outputs": [
    {
     "name": "stdout",
     "output_type": "stream",
     "text": [
      "Fold 0 :\tAccuracy: %f 0.7635135135135135\n",
      "Fold 1 :\tAccuracy: %f 0.7612612612612613\n",
      "Fold 2 :\tAccuracy: %f 0.7432432432432432\n",
      "Fold 3 :\tAccuracy: %f 0.7747747747747747\n",
      "Fold 4 :\tAccuracy: %f 0.7927927927927928\n",
      "Fold 5 :\tAccuracy: %f 0.7381489841986456\n",
      "Fold 6 :\tAccuracy: %f 0.781038374717833\n",
      "Fold 7 :\tAccuracy: %f 0.7426636568848759\n",
      "Fold 8 :\tAccuracy: %f 0.7720090293453724\n",
      "Fold 9 :\tAccuracy: %f 0.7832957110609481\n",
      "Average Accuracy: 0.7652741341793261\n"
     ]
    }
   ],
   "source": [
    "clf = PolynomialSVC( numFolds = 10, d = 3)\n",
    "clf.cross_validation( X_train.values, y_train.values.ravel())"
   ]
  },
  {
   "cell_type": "code",
   "execution_count": 54,
   "metadata": {},
   "outputs": [
    {
     "name": "stdout",
     "output_type": "stream",
     "text": [
      "Fold 0 :\tAccuracy: %f 0.7319819819819819\n",
      "Fold 1 :\tAccuracy: %f 0.7364864864864865\n",
      "Fold 2 :\tAccuracy: %f 0.777027027027027\n",
      "Fold 3 :\tAccuracy: %f 0.7522522522522522\n",
      "Fold 4 :\tAccuracy: %f 0.7792792792792793\n",
      "Fold 5 :\tAccuracy: %f 0.7358916478555305\n",
      "Fold 6 :\tAccuracy: %f 0.7855530474040632\n",
      "Fold 7 :\tAccuracy: %f 0.7787810383747178\n",
      "Fold 8 :\tAccuracy: %f 0.7945823927765236\n",
      "Fold 9 :\tAccuracy: %f 0.7878103837471784\n",
      "Average Accuracy: 0.765964553718504\n"
     ]
    }
   ],
   "source": [
    "clf = PolynomialSVC( numFolds = 10, d = 4)\n",
    "clf.cross_validation( X_train.values, y_train.values.ravel())"
   ]
  },
  {
   "cell_type": "code",
   "execution_count": null,
   "metadata": {},
   "outputs": [],
   "source": []
  }
 ],
 "metadata": {
  "kernelspec": {
   "display_name": "Python 3",
   "language": "python",
   "name": "python3"
  },
  "language_info": {
   "codemirror_mode": {
    "name": "ipython",
    "version": 3
   },
   "file_extension": ".py",
   "mimetype": "text/x-python",
   "name": "python",
   "nbconvert_exporter": "python",
   "pygments_lexer": "ipython3",
   "version": "3.7.3"
  }
 },
 "nbformat": 4,
 "nbformat_minor": 2
}
