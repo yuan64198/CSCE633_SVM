{
 "cells": [
  {
   "cell_type": "markdown",
   "metadata": {},
   "source": [
    "### Classifying benign vs malignant tumors: We would like to classify if a tumor is benign or malign based on its attributes. We use data from the Breast Cancer Wisconsin Data Set of the UCI Machine Learning Repository: https://archive.ics.uci.edu/ml/datasets/breast+cancer+wisconsin+(original)."
   ]
  },
  {
   "cell_type": "markdown",
   "metadata": {},
   "source": [
    "### The input file is named “hw2 question3.csv” for our experiments. The rows of these files refer to the data samples, while the columns denote the features (columns 1-9) and the outcome variable (column 10), as described bellow:"
   ]
  },
  {
   "cell_type": "markdown",
   "metadata": {},
   "source": [
    "### 1. Clump Thickness: discrete values {1, 10}\n",
    "### 2. Uniformity of Cell Size: discrete values {1, 10}\n",
    "### 3. Uniformity of Cell Shape: discrete values {1, 10} \n",
    "### 4. Marginal Adhesion: discrete values {1, 10}\n",
    "### 5. Single Epithelial Cell Size: discrete values {1, 10} \n",
    "### 6. Bare Nuclei: discrete values {1, 10}\n",
    "### 7. Bland Chromatin: discrete values {1, 10}\n",
    "### 8. Normal Nucleoli: discrete values {1, 10}\n",
    "### 9. Mitoses: discrete values {1, 10}\n",
    "### 10. Class: 2 for benign, 4 for malignant (this is the outcome variable)"
   ]
  },
  {
   "cell_type": "markdown",
   "metadata": {},
   "source": [
    "### (a) Compute the number of samples belonging to the benign and the number of samples belonging to the malignant case. What do you observe? Are the two classes equally represented in the data? Separate the data into a train (2/3 of the data) and a test (1/3 of the data) set. Make sure that both classes are represented with the same proportion in both sets."
   ]
  },
  {
   "cell_type": "markdown",
   "metadata": {},
   "source": [
    "By observing the dataset, we can see that there are 444 benign tumors data in the dataset, and 239 malignant tumors data in the dataset. In this case, the two classes are not equally represented in the data.\n",
    "Here, I leverage sklearn.model_selection.train_test_split to split the dataset. In order to make both classes represented with the same proportion in both sets, I set the attribute stratify = y, where y is the tumor classes."
   ]
  },
  {
   "cell_type": "code",
   "execution_count": 1,
   "metadata": {},
   "outputs": [],
   "source": [
    "import pandas as pd\n",
    "import numpy as np\n",
    "from sklearn.model_selection import train_test_split\n",
    "\n",
    "tumor_features=['Clump Thickness', 'Uniformity of Cell Size', 'Uniformity of Cell Shape', 'Marginal Adhesion', 'Single Epithelial Cell Size',\n",
    "                        'Bare Nuclei', 'Bland Chromatin', 'Normal Nucleoli', 'Mitoses', 'tumors']\n",
    "headers = tumor_features\n",
    "df = pd.read_csv('./dataset/hw2_question3.csv', names=headers)"
   ]
  },
  {
   "cell_type": "code",
   "execution_count": 2,
   "metadata": {},
   "outputs": [],
   "source": [
    "count_benign = 0\n",
    "for e in df['tumors']:\n",
    "    if(e == 2):\n",
    "        count_benign += 1"
   ]
  },
  {
   "cell_type": "code",
   "execution_count": 3,
   "metadata": {},
   "outputs": [
    {
     "name": "stdout",
     "output_type": "stream",
     "text": [
      "#number of benign tumors:  444\n",
      "#number of malignant tumors:  239\n"
     ]
    }
   ],
   "source": [
    "print(\"#number of benign tumors: \", count_benign)\n",
    "print(\"#number of malignant tumors: \", len(df)-count_benign)"
   ]
  },
  {
   "cell_type": "code",
   "execution_count": 4,
   "metadata": {},
   "outputs": [],
   "source": [
    "X = df[['Clump Thickness', 'Uniformity of Cell Size', 'Uniformity of Cell Shape', 'Marginal Adhesion', 'Single Epithelial Cell Size',\n",
    "               'Bare Nuclei', 'Bland Chromatin', 'Normal Nucleoli', 'Mitoses']]\n",
    "y = df['tumors']\n",
    "\n",
    "X_train, X_test, y_train, y_test = train_test_split(X, y, test_size=0.33, random_state=10, stratify = y)"
   ]
  },
  {
   "cell_type": "markdown",
   "metadata": {},
   "source": [
    "### (b) Implement two decision trees using the training samples. The splitting criterion for the first one should be the entropy, while for the second one should be the gini index. Plot the 10-fold stratified cross validated accuracy on the train and test data while the maximum depth in the tree increases for both splitting criteria. Do you observe any differences in practice?"
   ]
  },
  {
   "cell_type": "markdown",
   "metadata": {},
   "source": [
    "In this part, I do stratified cross validation on the dataset using DecisionTreeClassifier. The input max_depth of the classifiers are from 1 to 50.\n",
    "\n",
    "By observing the plot, we can discover that the accuracy curve goes flat after about tree_depth = 9, that means tree depth over 9 is meaningless. Moreover, we can see that the optimal accuracies of the classifiers with \"Gini\" and \"Entropy\" are around tree_depth= 4~7. That indicates that the tree depth of the classifiers should not be too large."
   ]
  },
  {
   "cell_type": "code",
   "execution_count": 5,
   "metadata": {},
   "outputs": [],
   "source": [
    "from sklearn import tree\n",
    "from sklearn.model_selection import StratifiedKFold\n",
    "from statistics import mean\n",
    "class DecisionTreeClassifier:\n",
    "    def __init__(self, criterion, max_depth):\n",
    "        self.clf = tree.DecisionTreeClassifier(criterion = criterion, max_depth = max_depth, random_state = 87)\n",
    "        self.numFolds = 10\n",
    "    def fit(self, X, y):\n",
    "        self.clf.fit(X, y)\n",
    "    def predict(self, X):\n",
    "        return self.clf.predict(X)\n",
    "    def score(self, X, y):\n",
    "        return self.clf.score(X, y)\n",
    "    def cross_validation(self, X, y):\n",
    "        kf = StratifiedKFold(n_splits= self.numFolds, random_state = 87)\n",
    "        fold = 0\n",
    "        ret = []\n",
    "        for train_index, test_index in kf.split(X, y):\n",
    "            X_train, X_test = X[train_index], X[test_index]\n",
    "            y_train, y_test = y[train_index], y[test_index]\n",
    "            self.fit( X_train, y_train)\n",
    "            \n",
    "            score = self.score(X_test, y_test)\n",
    "            ret.append(score)\n",
    "            fold += 1\n",
    "        #print(\"Average Auc Score:\", mean(ret))\n",
    "        return mean(ret)"
   ]
  },
  {
   "cell_type": "code",
   "execution_count": 6,
   "metadata": {},
   "outputs": [],
   "source": [
    "entro = []\n",
    "entro_test = []\n",
    "gini = []\n",
    "gini_test = []\n",
    "\n",
    "for i in range(1,50):\n",
    "    dtc = DecisionTreeClassifier( criterion=\"entropy\", max_depth=i)\n",
    "    entro.append(dtc.cross_validation(X_train.values, y_train.values.ravel()))\n",
    "    entro_test.append( dtc.score(X_test.values, y_test.values.ravel()))\n",
    "    dtc = DecisionTreeClassifier( criterion=\"gini\", max_depth=i)\n",
    "    gini.append(dtc.cross_validation(X_train.values, y_train.values.ravel()))\n",
    "    gini_test.append(dtc.score(X_test.values, y_test.values.ravel()))"
   ]
  },
  {
   "cell_type": "code",
   "execution_count": 8,
   "metadata": {},
   "outputs": [
    {
     "data": {
      "image/png": "[encoded data removed]",
      "text/plain": [
       "<Figure size 432x288 with 1 Axes>"
      ]
     },
     "metadata": {
      "needs_background": "light"
     },
     "output_type": "display_data"
    }
   ],
   "source": [
    "import matplotlib.pyplot as plt\n",
    "\n",
    "max_depth_range = list(range(1, 50))\n",
    "\n",
    "\n",
    "plt.plot(max_depth_range, entro, label=\"Entropy (Train)\")\n",
    "plt.plot(max_depth_range, gini, label=\"Gini Index (Train)\")\n",
    "\n",
    "plt.plot(max_depth_range, entro_test, label=\"Entropy (Test)\")\n",
    "plt.plot(max_depth_range, gini_test, label=\"Gini Index (Test)\")\n",
    "\n",
    "plt.ylim(ymin = 0.88)\n",
    "plt.ylim(ymax = 1.0)\n",
    "plt.title('Accuracy for Trees')\n",
    "plt.xlabel('Trees Depth')\n",
    "plt.ylabel('Accuracy')\n",
    "plt.legend(loc=\"lower right\", prop={'size': 10})\n",
    "plt.show()"
   ]
  },
  {
   "cell_type": "markdown",
   "metadata": {},
   "source": [
    "### (c) Feature Importance \n",
    "### Run a 10-fold stratified cross-validation for modeling this problem with a random forest model. You can choose to do a secondary 10-fold cross-validation on the training set in each fold to find the optimal number of trees and depth of each tree if you choose. Is this model more accurate (averaged over all 10 folds) than the decision trees?. As ranked by the feature importance, please provide a ranking of the features as their average position (standard deviation) of the rank order. Is this ranking it by Gini, Mean Decrease in Accuracy, or something else? What should the final model’s list of features be? Please justify your answer."
   ]
  },
  {
   "cell_type": "markdown",
   "metadata": {},
   "source": [
    "The accuracy obtained by RamdomForestClassifier, in this case, is about 97%~98% in accuracy. The accuracy here is obviously higher than decision trees. And we can see from the feature importances, the rank of the features is 'Uniformity of Cell Shape', 'Uniformity of Cell Size', 'Single Epithelial Cell Size', 'Bare Nuclei', 'Bland Chromatin', 'Normal Nucleoli', 'Clump Thickness', 'Marginal Adhesion', 'Mitoses'.\n",
    "\n",
    "In scikit-learn, it implement the importance using \"gini importance\" or \"mean decrease impurity\" and is defined as the total decrease in node impurity (weighted by the probability of reaching that node (which is approximated by the proportion of samples reaching that node)) averaged over all trees of the ensemble."
   ]
  },
  {
   "cell_type": "code",
   "execution_count": 9,
   "metadata": {},
   "outputs": [],
   "source": [
    "from sklearn import ensemble\n",
    "\n",
    "class RandomForestClassifier:\n",
    "    def __init__(self, n_trees, criterion, max_depth):\n",
    "        self.clf = ensemble.RandomForestClassifier( n_estimators = n_trees, criterion = criterion, max_depth = max_depth, random_state = 87)\n",
    "        self.numFolds = 10\n",
    "    def fit(self, X, y):\n",
    "        self.clf.fit(X, y)\n",
    "    def predict(self, X):\n",
    "        return self.clf.predict(X)\n",
    "    def score(self, X, y):\n",
    "        return self.clf.score(X, y)\n",
    "    def cross_validation(self, X, y):\n",
    "        kf = StratifiedKFold(n_splits= self.numFolds, random_state = 87)\n",
    "        fold = 0\n",
    "        ret = []\n",
    "        for train_index, test_index in kf.split(X, y):\n",
    "            X_train, X_test = X[train_index], X[test_index]\n",
    "            y_train, y_test = y[train_index], y[test_index]\n",
    "            self.fit( X_train, y_train)\n",
    "            \n",
    "            score = self.score(X_test, y_test)\n",
    "            ret.append(score)\n",
    "            fold += 1\n",
    "        #print(\"Average Auc Score:\", mean(ret))\n",
    "        return mean(ret)\n",
    "        "
   ]
  },
  {
   "cell_type": "code",
   "execution_count": 10,
   "metadata": {},
   "outputs": [],
   "source": [
    "def findBestParams( md, ne, ctiterion, X, y):\n",
    "    max_depth = 0\n",
    "    n_esti = 0\n",
    "    max_acc = 0\n",
    "    for depth in md:\n",
    "        for num in ne:\n",
    "            rfc = RandomForestClassifier( n_trees = num, criterion=ctiterion, max_depth=depth)\n",
    "            acc = rfc.cross_validation(X, y)\n",
    "            if acc > max_acc:\n",
    "                max_depth = depth\n",
    "                n_esti = num\n",
    "                max_acc = acc\n",
    "    return [ max_depth, n_esti]"
   ]
  },
  {
   "cell_type": "code",
   "execution_count": 11,
   "metadata": {},
   "outputs": [
    {
     "data": {
      "text/plain": [
       "[9, 50]"
      ]
     },
     "execution_count": 11,
     "metadata": {},
     "output_type": "execute_result"
    }
   ],
   "source": [
    "md = list(range(1, 11))  \n",
    "ne = [25, 50, 75, 100, 125, 150]\n",
    "\n",
    "findBestParams( md, ne, \"entropy\", X_train.values, y_train.values.ravel())"
   ]
  },
  {
   "cell_type": "code",
   "execution_count": 12,
   "metadata": {},
   "outputs": [
    {
     "data": {
      "text/plain": [
       "0.9734513274336283"
      ]
     },
     "execution_count": 12,
     "metadata": {},
     "output_type": "execute_result"
    }
   ],
   "source": [
    "rfc = RandomForestClassifier( n_trees = 50, criterion=\"entropy\", max_depth=9)\n",
    "rfc.fit(X_train.values, y_train.values.ravel())\n",
    "rfc.score( X_test.values, y_test.values.ravel())"
   ]
  },
  {
   "cell_type": "code",
   "execution_count": 13,
   "metadata": {},
   "outputs": [
    {
     "data": {
      "text/plain": [
       "Text(0.5, 0, 'Features')"
      ]
     },
     "execution_count": 13,
     "metadata": {},
     "output_type": "execute_result"
    },
    {
     "data": {
      "image/png": "[encoded data removed]",
      "text/plain": [
       "<Figure size 432x288 with 1 Axes>"
      ]
     },
     "metadata": {
      "needs_background": "light"
     },
     "output_type": "display_data"
    }
   ],
   "source": [
    "importances_index_desc = np.argsort(rfc.clf.feature_importances_)[::-1]\n",
    "feature_labels = [tumor_features[i] for i in importances_index_desc]\n",
    "# plot\n",
    "plt.figure()\n",
    "plt.bar(feature_labels, rfc.clf.feature_importances_[importances_index_desc])\n",
    "plt.xticks(feature_labels, rotation='vertical')\n",
    "plt.ylabel('Importance')\n",
    "plt.xlabel('Features')"
   ]
  },
  {
   "cell_type": "code",
   "execution_count": 14,
   "metadata": {},
   "outputs": [
    {
     "data": {
      "text/plain": [
       "[3, 75]"
      ]
     },
     "execution_count": 14,
     "metadata": {},
     "output_type": "execute_result"
    }
   ],
   "source": [
    "md = list(range(1, 11))  \n",
    "ne = [25, 50, 75, 100, 125, 150]\n",
    "\n",
    "findBestParams( md, ne, \"gini\", X_train.values, y_train.values.ravel())"
   ]
  },
  {
   "cell_type": "code",
   "execution_count": 15,
   "metadata": {
    "scrolled": true
   },
   "outputs": [
    {
     "data": {
      "text/plain": [
       "0.9601769911504425"
      ]
     },
     "execution_count": 15,
     "metadata": {},
     "output_type": "execute_result"
    }
   ],
   "source": [
    "rfc = RandomForestClassifier( n_trees = 75, criterion=\"gini\", max_depth=3)\n",
    "rfc.fit(X_train.values, y_train.values.ravel())\n",
    "rfc.score( X_test.values, y_test.values.ravel())"
   ]
  },
  {
   "cell_type": "code",
   "execution_count": 16,
   "metadata": {},
   "outputs": [
    {
     "data": {
      "text/plain": [
       "Text(0.5, 0, 'Features')"
      ]
     },
     "execution_count": 16,
     "metadata": {},
     "output_type": "execute_result"
    },
    {
     "data": {
      "image/png": "[encoded data removed]",
      "text/plain": [
       "<Figure size 432x288 with 1 Axes>"
      ]
     },
     "metadata": {
      "needs_background": "light"
     },
     "output_type": "display_data"
    }
   ],
   "source": [
    "importances_index_desc = np.argsort(rfc.clf.feature_importances_)[::-1]\n",
    "feature_labels = [tumor_features[i] for i in importances_index_desc]\n",
    "# plot\n",
    "plt.figure()\n",
    "plt.bar(feature_labels, rfc.clf.feature_importances_[importances_index_desc])\n",
    "plt.xticks(feature_labels, rotation='vertical')\n",
    "plt.ylabel('Importance')\n",
    "plt.xlabel('Features')"
   ]
  }
 ],
 "metadata": {
  "kernelspec": {
   "display_name": "Python 3",
   "language": "python",
   "name": "python3"
  },
  "language_info": {
   "codemirror_mode": {
    "name": "ipython",
    "version": 3
   },
   "file_extension": ".py",
   "mimetype": "text/x-python",
   "name": "python",
   "nbconvert_exporter": "python",
   "pygments_lexer": "ipython3",
   "version": "3.6.8"
  }
 },
 "nbformat": 4,
 "nbformat_minor": 2
}
